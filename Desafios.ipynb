{
 "cells": [
  {
   "cell_type": "markdown",
   "id": "a8e2703d",
   "metadata": {},
   "source": [
    "## Desafio 1"
   ]
  },
  {
   "cell_type": "code",
   "execution_count": 33,
   "id": "f47bfe07",
   "metadata": {},
   "outputs": [],
   "source": [
    "import pandas as pd\n",
    "import matplotlib.pyplot as plt\n",
    "from sqlalchemy import create_engine, inspect, text "
   ]
  },
  {
   "cell_type": "code",
   "execution_count": 34,
   "id": "840b0e86",
   "metadata": {},
   "outputs": [],
   "source": [
    "url_itens_pedidos = 'https://github.com/alura-cursos/SQL-python-integracao/raw/main/TABELAS/itens_pedidos.csv'\n",
    "url_pedidos = 'https://github.com/alura-cursos/SQL-python-integracao/raw/main/TABELAS/pedidos.csv'\n",
    "url_produto = 'https://github.com/alura-cursos/SQL-python-integracao/raw/main/TABELAS/produtos.csv'\n",
    "url_vendedores = 'https://github.com/alura-cursos/SQL-python-integracao/raw/main/TABELAS/vendedores.csv'"
   ]
  },
  {
   "cell_type": "code",
   "execution_count": 35,
   "id": "72e65082",
   "metadata": {},
   "outputs": [],
   "source": [
    "itens_pedidos = pd.read_csv(url_itens_pedidos)\n",
    "pedidos = pd.read_csv(url_pedidos)\n",
    "produtos = pd.read_csv(url_produto)\n",
    "vendedores = pd.read_csv(url_vendedores)"
   ]
  },
  {
   "cell_type": "code",
   "execution_count": 36,
   "id": "eb36f3c9",
   "metadata": {},
   "outputs": [],
   "source": [
    "engine = create_engine('sqlite:///:memory:')"
   ]
  },
  {
   "cell_type": "code",
   "execution_count": 37,
   "id": "2d542c89",
   "metadata": {},
   "outputs": [
    {
     "data": {
      "text/plain": [
       "5"
      ]
     },
     "execution_count": 37,
     "metadata": {},
     "output_type": "execute_result"
    }
   ],
   "source": [
    "itens_pedidos.to_sql('itens_pedidos', engine, index = False)\n",
    "pedidos.to_sql('pedidos', engine, index = False)\n",
    "produtos.to_sql('produtos', engine, index = False)\n",
    "vendedores.to_sql('vendedores', engine, index = False)"
   ]
  },
  {
   "cell_type": "code",
   "execution_count": 38,
   "id": "c50d8e77",
   "metadata": {},
   "outputs": [
    {
     "name": "stdout",
     "output_type": "stream",
     "text": [
      "['itens_pedidos', 'pedidos', 'produtos', 'vendedores']\n"
     ]
    }
   ],
   "source": [
    "inspector = inspect(engine)\n",
    "print(inspector.get_table_names())"
   ]
  },
  {
   "cell_type": "code",
   "execution_count": 39,
   "id": "685e1ed7",
   "metadata": {},
   "outputs": [],
   "source": [
    "def sql_df(query):\n",
    "    with engine.connect() as conexao:\n",
    "        consulta = conexao.execute(text(query))\n",
    "        dados = consulta.fetchall()\n",
    "    return pd.DataFrame(dados, columns = consulta.keys())"
   ]
  },
  {
   "cell_type": "code",
   "execution_count": 40,
   "id": "cb55f2a8",
   "metadata": {},
   "outputs": [
    {
     "data": {
      "text/plain": [
       "45803930"
      ]
     },
     "execution_count": 40,
     "metadata": {},
     "output_type": "execute_result"
    }
   ],
   "source": [
    "df_itens_pedidos = sql_df('SELECT VALOR_TOTAL FROM ITENS_PEDIDOS')\n",
    "receita = df_itens_pedidos['valor_total'].sum()\n",
    "receita"
   ]
  },
  {
   "cell_type": "code",
   "execution_count": 41,
   "id": "d8c98dbf",
   "metadata": {},
   "outputs": [
    {
     "data": {
      "text/html": [
       "<div>\n",
       "<style scoped>\n",
       "    .dataframe tbody tr th:only-of-type {\n",
       "        vertical-align: middle;\n",
       "    }\n",
       "\n",
       "    .dataframe tbody tr th {\n",
       "        vertical-align: top;\n",
       "    }\n",
       "\n",
       "    .dataframe thead th {\n",
       "        text-align: right;\n",
       "    }\n",
       "</style>\n",
       "<table border=\"1\" class=\"dataframe\">\n",
       "  <thead>\n",
       "    <tr style=\"text-align: right;\">\n",
       "      <th></th>\n",
       "      <th>RECEITA</th>\n",
       "    </tr>\n",
       "  </thead>\n",
       "  <tbody>\n",
       "    <tr>\n",
       "      <th>0</th>\n",
       "      <td>45803930</td>\n",
       "    </tr>\n",
       "  </tbody>\n",
       "</table>\n",
       "</div>"
      ],
      "text/plain": [
       "    RECEITA\n",
       "0  45803930"
      ]
     },
     "execution_count": 41,
     "metadata": {},
     "output_type": "execute_result"
    }
   ],
   "source": [
    "query = '''SELECT SUM(VALOR_TOTAL) AS RECEITA\n",
    "FROM ITENS_PEDIDOS;\n",
    "'''\n",
    "sql_df(query)"
   ]
  },
  {
   "cell_type": "markdown",
   "id": "c2e13a95",
   "metadata": {},
   "source": [
    "## Desafio 2"
   ]
  },
  {
   "cell_type": "code",
   "execution_count": 42,
   "id": "04c9c8c8",
   "metadata": {},
   "outputs": [
    {
     "data": {
      "text/html": [
       "<div>\n",
       "<style scoped>\n",
       "    .dataframe tbody tr th:only-of-type {\n",
       "        vertical-align: middle;\n",
       "    }\n",
       "\n",
       "    .dataframe tbody tr th {\n",
       "        vertical-align: top;\n",
       "    }\n",
       "\n",
       "    .dataframe thead th {\n",
       "        text-align: right;\n",
       "    }\n",
       "</style>\n",
       "<table border=\"1\" class=\"dataframe\">\n",
       "  <thead>\n",
       "    <tr style=\"text-align: right;\">\n",
       "      <th></th>\n",
       "      <th>marca</th>\n",
       "      <th>pedidos</th>\n",
       "    </tr>\n",
       "  </thead>\n",
       "  <tbody>\n",
       "    <tr>\n",
       "      <th>0</th>\n",
       "      <td>Talie Nk</td>\n",
       "      <td>94</td>\n",
       "    </tr>\n",
       "    <tr>\n",
       "      <th>1</th>\n",
       "      <td>Track &amp; Field</td>\n",
       "      <td>96</td>\n",
       "    </tr>\n",
       "    <tr>\n",
       "      <th>2</th>\n",
       "      <td>Ateliê de Calças</td>\n",
       "      <td>99</td>\n",
       "    </tr>\n",
       "    <tr>\n",
       "      <th>3</th>\n",
       "      <td>Bottega Veneta</td>\n",
       "      <td>101</td>\n",
       "    </tr>\n",
       "    <tr>\n",
       "      <th>4</th>\n",
       "      <td>Bcbgmaxzria</td>\n",
       "      <td>103</td>\n",
       "    </tr>\n",
       "    <tr>\n",
       "      <th>...</th>\n",
       "      <td>...</td>\n",
       "      <td>...</td>\n",
       "    </tr>\n",
       "    <tr>\n",
       "      <th>112</th>\n",
       "      <td>Banana Republic</td>\n",
       "      <td>584</td>\n",
       "    </tr>\n",
       "    <tr>\n",
       "      <th>113</th>\n",
       "      <td>Le Lis Blanc</td>\n",
       "      <td>715</td>\n",
       "    </tr>\n",
       "    <tr>\n",
       "      <th>114</th>\n",
       "      <td>Animale</td>\n",
       "      <td>1128</td>\n",
       "    </tr>\n",
       "    <tr>\n",
       "      <th>115</th>\n",
       "      <td>Mixed</td>\n",
       "      <td>1673</td>\n",
       "    </tr>\n",
       "    <tr>\n",
       "      <th>116</th>\n",
       "      <td>Zara</td>\n",
       "      <td>2721</td>\n",
       "    </tr>\n",
       "  </tbody>\n",
       "</table>\n",
       "<p>117 rows × 2 columns</p>\n",
       "</div>"
      ],
      "text/plain": [
       "                marca  pedidos\n",
       "0            Talie Nk       94\n",
       "1       Track & Field       96\n",
       "2    Ateliê de Calças       99\n",
       "3      Bottega Veneta      101\n",
       "4         Bcbgmaxzria      103\n",
       "..                ...      ...\n",
       "112   Banana Republic      584\n",
       "113      Le Lis Blanc      715\n",
       "114           Animale     1128\n",
       "115             Mixed     1673\n",
       "116              Zara     2721\n",
       "\n",
       "[117 rows x 2 columns]"
      ]
     },
     "execution_count": 42,
     "metadata": {},
     "output_type": "execute_result"
    }
   ],
   "source": [
    "query = '''SELECT PRODUTOS.MARCA, COUNT(*) AS pedidos\n",
    "FROM ITENS_PEDIDOS, PRODUTOS\n",
    "WHERE ITENS_PEDIDOS.PRODUTO_ID = PRODUTOS.PRODUTO_ID\n",
    "GROUP BY PRODUTOS.MARCA\n",
    "ORDER BY pedidos ASC;\n",
    "'''\n",
    "df_marcas = sql_df(query)\n",
    "df_marcas"
   ]
  },
  {
   "cell_type": "code",
   "execution_count": 43,
   "id": "137ab86a",
   "metadata": {},
   "outputs": [
    {
     "data": {
      "image/png": "[encoded data removed]",
      "text/plain": [
       "<Figure size 640x480 with 1 Axes>"
      ]
     },
     "metadata": {},
     "output_type": "display_data"
    }
   ],
   "source": [
    "plt.barh(df_marcas['marca'][-15:], df_marcas['pedidos'][-15:], color = '#9353FF')\n",
    "plt.xlabel('Marcas mais pedidas')\n",
    "plt.show()"
   ]
  },
  {
   "cell_type": "markdown",
   "id": "3610e6b7",
   "metadata": {},
   "source": [
    "## Desafio 3"
   ]
  },
  {
   "cell_type": "code",
   "execution_count": 52,
   "id": "b2f81f0b",
   "metadata": {},
   "outputs": [
    {
     "data": {
      "text/html": [
       "<div>\n",
       "<style scoped>\n",
       "    .dataframe tbody tr th:only-of-type {\n",
       "        vertical-align: middle;\n",
       "    }\n",
       "\n",
       "    .dataframe tbody tr th {\n",
       "        vertical-align: top;\n",
       "    }\n",
       "\n",
       "    .dataframe thead th {\n",
       "        text-align: right;\n",
       "    }\n",
       "</style>\n",
       "<table border=\"1\" class=\"dataframe\">\n",
       "  <thead>\n",
       "    <tr style=\"text-align: right;\">\n",
       "      <th></th>\n",
       "      <th>produto</th>\n",
       "      <th>TOTAL_PEDIDOS</th>\n",
       "    </tr>\n",
       "  </thead>\n",
       "  <tbody>\n",
       "    <tr>\n",
       "      <th>0</th>\n",
       "      <td>Vestido Recortes Cores</td>\n",
       "      <td>85</td>\n",
       "    </tr>\n",
       "    <tr>\n",
       "      <th>1</th>\n",
       "      <td>Calca Jeans Costuras</td>\n",
       "      <td>81</td>\n",
       "    </tr>\n",
       "    <tr>\n",
       "      <th>2</th>\n",
       "      <td>Saia Pregas Preta</td>\n",
       "      <td>73</td>\n",
       "    </tr>\n",
       "    <tr>\n",
       "      <th>3</th>\n",
       "      <td>Calca Alfaiataria Preta</td>\n",
       "      <td>66</td>\n",
       "    </tr>\n",
       "    <tr>\n",
       "      <th>4</th>\n",
       "      <td>Camisa Xadrez Azul</td>\n",
       "      <td>60</td>\n",
       "    </tr>\n",
       "    <tr>\n",
       "      <th>5</th>\n",
       "      <td>Bomber Tricot Off</td>\n",
       "      <td>56</td>\n",
       "    </tr>\n",
       "    <tr>\n",
       "      <th>6</th>\n",
       "      <td>Shorts Bordado Branco</td>\n",
       "      <td>55</td>\n",
       "    </tr>\n",
       "    <tr>\n",
       "      <th>7</th>\n",
       "      <td>Blusa Manga Estampa</td>\n",
       "      <td>54</td>\n",
       "    </tr>\n",
       "    <tr>\n",
       "      <th>8</th>\n",
       "      <td>Saia Midi Cinto</td>\n",
       "      <td>53</td>\n",
       "    </tr>\n",
       "    <tr>\n",
       "      <th>9</th>\n",
       "      <td>Saia Evase Cinza</td>\n",
       "      <td>53</td>\n",
       "    </tr>\n",
       "  </tbody>\n",
       "</table>\n",
       "</div>"
      ],
      "text/plain": [
       "                   produto  TOTAL_PEDIDOS\n",
       "0   Vestido Recortes Cores             85\n",
       "1     Calca Jeans Costuras             81\n",
       "2        Saia Pregas Preta             73\n",
       "3  Calca Alfaiataria Preta             66\n",
       "4       Camisa Xadrez Azul             60\n",
       "5        Bomber Tricot Off             56\n",
       "6    Shorts Bordado Branco             55\n",
       "7      Blusa Manga Estampa             54\n",
       "8          Saia Midi Cinto             53\n",
       "9         Saia Evase Cinza             53"
      ]
     },
     "execution_count": 52,
     "metadata": {},
     "output_type": "execute_result"
    }
   ],
   "source": [
    "query = '''SELECT PRODUTOS.PRODUTO, COUNT(PEDIDOS.PEDIDO_ID) AS TOTAL_PEDIDOS\n",
    "FROM PEDIDOS, PRODUTOS\n",
    "WHERE strftime('%Y', data_compra) = '2019' AND PEDIDOS.PRODUTO_ID = PRODUTOS.PRODUTO_ID\n",
    "GROUP BY PRODUTOS.PRODUTO\n",
    "ORDER BY TOTAL_PEDIDOS DESC\n",
    "LIMIT 10;\n",
    "'''\n",
    "sql_df(query)"
   ]
  },
  {
   "cell_type": "markdown",
   "id": "e0d84af8",
   "metadata": {},
   "source": [
    "## Desafio 4"
   ]
  },
  {
   "cell_type": "code",
   "execution_count": 56,
   "id": "0eb78119",
   "metadata": {},
   "outputs": [
    {
     "data": {
      "text/html": [
       "<div>\n",
       "<style scoped>\n",
       "    .dataframe tbody tr th:only-of-type {\n",
       "        vertical-align: middle;\n",
       "    }\n",
       "\n",
       "    .dataframe tbody tr th {\n",
       "        vertical-align: top;\n",
       "    }\n",
       "\n",
       "    .dataframe thead th {\n",
       "        text-align: right;\n",
       "    }\n",
       "</style>\n",
       "<table border=\"1\" class=\"dataframe\">\n",
       "  <thead>\n",
       "    <tr style=\"text-align: right;\">\n",
       "      <th></th>\n",
       "      <th>mes</th>\n",
       "      <th>receita</th>\n",
       "    </tr>\n",
       "  </thead>\n",
       "  <tbody>\n",
       "    <tr>\n",
       "      <th>0</th>\n",
       "      <td>01</td>\n",
       "      <td>2097109</td>\n",
       "    </tr>\n",
       "    <tr>\n",
       "      <th>1</th>\n",
       "      <td>02</td>\n",
       "      <td>1140729</td>\n",
       "    </tr>\n",
       "    <tr>\n",
       "      <th>2</th>\n",
       "      <td>03</td>\n",
       "      <td>51525</td>\n",
       "    </tr>\n",
       "  </tbody>\n",
       "</table>\n",
       "</div>"
      ],
      "text/plain": [
       "  mes  receita\n",
       "0  01  2097109\n",
       "1  02  1140729\n",
       "2  03    51525"
      ]
     },
     "execution_count": 56,
     "metadata": {},
     "output_type": "execute_result"
    }
   ],
   "source": [
    "query = '''SELECT strftime('%m', data_compra) AS mes, SUM(total) AS receita\n",
    "FROM PEDIDOS\n",
    "WHERE strftime('%Y', data_compra) = '2021'\n",
    "GROUP BY mes;\n",
    "'''\n",
    "\n",
    "vendas_21 = sql_df(query)\n",
    "vendas_21"
   ]
  },
  {
   "cell_type": "markdown",
   "id": "ece3902a",
   "metadata": {},
   "source": [
    "## Desafio 5"
   ]
  },
  {
   "cell_type": "code",
   "execution_count": 59,
   "id": "5e77c268",
   "metadata": {},
   "outputs": [
    {
     "data": {
      "text/html": [
       "<div>\n",
       "<style scoped>\n",
       "    .dataframe tbody tr th:only-of-type {\n",
       "        vertical-align: middle;\n",
       "    }\n",
       "\n",
       "    .dataframe tbody tr th {\n",
       "        vertical-align: top;\n",
       "    }\n",
       "\n",
       "    .dataframe thead th {\n",
       "        text-align: right;\n",
       "    }\n",
       "</style>\n",
       "<table border=\"1\" class=\"dataframe\">\n",
       "  <thead>\n",
       "    <tr style=\"text-align: right;\">\n",
       "      <th></th>\n",
       "      <th>marca</th>\n",
       "      <th>quantidade_vendas</th>\n",
       "    </tr>\n",
       "  </thead>\n",
       "  <tbody>\n",
       "    <tr>\n",
       "      <th>0</th>\n",
       "      <td>Zara</td>\n",
       "      <td>100</td>\n",
       "    </tr>\n",
       "    <tr>\n",
       "      <th>1</th>\n",
       "      <td>Mixed</td>\n",
       "      <td>58</td>\n",
       "    </tr>\n",
       "    <tr>\n",
       "      <th>2</th>\n",
       "      <td>Animale</td>\n",
       "      <td>44</td>\n",
       "    </tr>\n",
       "    <tr>\n",
       "      <th>3</th>\n",
       "      <td>Le Lis Blanc</td>\n",
       "      <td>26</td>\n",
       "    </tr>\n",
       "    <tr>\n",
       "      <th>4</th>\n",
       "      <td>Banana Republic</td>\n",
       "      <td>18</td>\n",
       "    </tr>\n",
       "    <tr>\n",
       "      <th>...</th>\n",
       "      <td>...</td>\n",
       "      <td>...</td>\n",
       "    </tr>\n",
       "    <tr>\n",
       "      <th>111</th>\n",
       "      <td>Topshop</td>\n",
       "      <td>1</td>\n",
       "    </tr>\n",
       "    <tr>\n",
       "      <th>112</th>\n",
       "      <td>Morena Rosa</td>\n",
       "      <td>1</td>\n",
       "    </tr>\n",
       "    <tr>\n",
       "      <th>113</th>\n",
       "      <td>Erre Erre</td>\n",
       "      <td>1</td>\n",
       "    </tr>\n",
       "    <tr>\n",
       "      <th>114</th>\n",
       "      <td>Bobô</td>\n",
       "      <td>1</td>\n",
       "    </tr>\n",
       "    <tr>\n",
       "      <th>115</th>\n",
       "      <td>Ateliê de Calças</td>\n",
       "      <td>1</td>\n",
       "    </tr>\n",
       "  </tbody>\n",
       "</table>\n",
       "<p>116 rows × 2 columns</p>\n",
       "</div>"
      ],
      "text/plain": [
       "                marca  quantidade_vendas\n",
       "0                Zara                100\n",
       "1               Mixed                 58\n",
       "2             Animale                 44\n",
       "3        Le Lis Blanc                 26\n",
       "4     Banana Republic                 18\n",
       "..                ...                ...\n",
       "111           Topshop                  1\n",
       "112       Morena Rosa                  1\n",
       "113         Erre Erre                  1\n",
       "114              Bobô                  1\n",
       "115  Ateliê de Calças                  1\n",
       "\n",
       "[116 rows x 2 columns]"
      ]
     },
     "execution_count": 59,
     "metadata": {},
     "output_type": "execute_result"
    }
   ],
   "source": [
    "query = '''SELECT PRODUTOS.MARCA, COUNT(*) AS quantidade_vendas\n",
    "FROM PRODUTOS\n",
    "JOIN ITENS_PEDIDOS ON ITENS_PEDIDOS.PRODUTO_ID = PRODUTOS.PRODUTO_ID\n",
    "WHERE ITENS_PEDIDOS.ESTADO = 'BR-SP'\n",
    "GROUP BY PRODUTOS.MARCA\n",
    "ORDER BY quantidade_vendas DESC;\n",
    "'''\n",
    "\n",
    "sql_df(query)"
   ]
  },
  {
   "cell_type": "markdown",
   "id": "ec9ac731",
   "metadata": {},
   "source": [
    "## Desafio 6"
   ]
  },
  {
   "cell_type": "code",
   "execution_count": 65,
   "id": "e012ddce",
   "metadata": {},
   "outputs": [
    {
     "data": {
      "text/html": [
       "<div>\n",
       "<style scoped>\n",
       "    .dataframe tbody tr th:only-of-type {\n",
       "        vertical-align: middle;\n",
       "    }\n",
       "\n",
       "    .dataframe tbody tr th {\n",
       "        vertical-align: top;\n",
       "    }\n",
       "\n",
       "    .dataframe thead th {\n",
       "        text-align: right;\n",
       "    }\n",
       "</style>\n",
       "<table border=\"1\" class=\"dataframe\">\n",
       "  <thead>\n",
       "    <tr style=\"text-align: right;\">\n",
       "      <th></th>\n",
       "      <th>produto</th>\n",
       "      <th>quantidade_vendas</th>\n",
       "    </tr>\n",
       "  </thead>\n",
       "  <tbody>\n",
       "    <tr>\n",
       "      <th>0</th>\n",
       "      <td>Vestido Recortes Cores</td>\n",
       "      <td>30</td>\n",
       "    </tr>\n",
       "    <tr>\n",
       "      <th>1</th>\n",
       "      <td>Vestido Preto Franzido</td>\n",
       "      <td>26</td>\n",
       "    </tr>\n",
       "    <tr>\n",
       "      <th>2</th>\n",
       "      <td>Calca Jeans Costuras</td>\n",
       "      <td>26</td>\n",
       "    </tr>\n",
       "    <tr>\n",
       "      <th>3</th>\n",
       "      <td>Calca Alfaiataria Preta</td>\n",
       "      <td>26</td>\n",
       "    </tr>\n",
       "    <tr>\n",
       "      <th>4</th>\n",
       "      <td>Camisa Xadrez Azul</td>\n",
       "      <td>25</td>\n",
       "    </tr>\n",
       "    <tr>\n",
       "      <th>...</th>\n",
       "      <td>...</td>\n",
       "      <td>...</td>\n",
       "    </tr>\n",
       "    <tr>\n",
       "      <th>196</th>\n",
       "      <td>Sneaker Monograma Bege</td>\n",
       "      <td>6</td>\n",
       "    </tr>\n",
       "    <tr>\n",
       "      <th>197</th>\n",
       "      <td>Casaqueto Estampa Geometrica</td>\n",
       "      <td>6</td>\n",
       "    </tr>\n",
       "    <tr>\n",
       "      <th>198</th>\n",
       "      <td>Regata Renda Branca</td>\n",
       "      <td>5</td>\n",
       "    </tr>\n",
       "    <tr>\n",
       "      <th>199</th>\n",
       "      <td>Body Estampa Coracoes</td>\n",
       "      <td>5</td>\n",
       "    </tr>\n",
       "    <tr>\n",
       "      <th>200</th>\n",
       "      <td>Blusa Suede Caramelo</td>\n",
       "      <td>5</td>\n",
       "    </tr>\n",
       "  </tbody>\n",
       "</table>\n",
       "<p>201 rows × 2 columns</p>\n",
       "</div>"
      ],
      "text/plain": [
       "                          produto  quantidade_vendas\n",
       "0          Vestido Recortes Cores                 30\n",
       "1          Vestido Preto Franzido                 26\n",
       "2            Calca Jeans Costuras                 26\n",
       "3         Calca Alfaiataria Preta                 26\n",
       "4              Camisa Xadrez Azul                 25\n",
       "..                            ...                ...\n",
       "196        Sneaker Monograma Bege                  6\n",
       "197  Casaqueto Estampa Geometrica                  6\n",
       "198           Regata Renda Branca                  5\n",
       "199         Body Estampa Coracoes                  5\n",
       "200          Blusa Suede Caramelo                  5\n",
       "\n",
       "[201 rows x 2 columns]"
      ]
     },
     "execution_count": 65,
     "metadata": {},
     "output_type": "execute_result"
    }
   ],
   "source": [
    "query = '''SELECT PRODUTOS.PRODUTO, COUNT(*) AS quantidade_vendas\n",
    "FROM ITENS_PEDIDOS\n",
    "JOIN PRODUTOS ON PRODUTOS.PRODUTO_ID = ITENS_PEDIDOS.PRODUTO_ID \n",
    "JOIN PEDIDOS ON PEDIDOS.PEDIDO_ID = ITENS_PEDIDOS.PEDIDO_ID\n",
    "WHERE strftime('%m', data_compra) = '12'\n",
    "GROUP BY produtos.produto\n",
    "ORDER BY quantidade_vendas DESC\n",
    "'''\n",
    "\n",
    "sql_df(query)"
   ]
  },
  {
   "cell_type": "code",
   "execution_count": null,
   "id": "edfa6031",
   "metadata": {},
   "outputs": [],
   "source": []
  }
 ],
 "metadata": {
  "kernelspec": {
   "display_name": "Python 3 (ipykernel)",
   "language": "python",
   "name": "python3"
  },
  "language_info": {
   "codemirror_mode": {
    "name": "ipython",
    "version": 3
   },
   "file_extension": ".py",
   "mimetype": "text/x-python",
   "name": "python",
   "nbconvert_exporter": "python",
   "pygments_lexer": "ipython3",
   "version": "3.11.3"
  }
 },
 "nbformat": 4,
 "nbformat_minor": 5
}
